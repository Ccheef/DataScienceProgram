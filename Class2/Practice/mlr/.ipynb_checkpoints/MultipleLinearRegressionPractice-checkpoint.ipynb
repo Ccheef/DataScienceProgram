{
 "cells": [
  {
   "cell_type": "markdown",
   "metadata": {},
   "source": [
    "# This practice will cover learning points in class2\n",
    "### 1 - Fit MLR model in python with sklearn and statesmodel packages\n",
    "### 2 - Model Selection\n",
    "### 3 - Weighted regression\n",
    "### 4 - Regularization, L1 and L2"
   ]
  },
  {
   "cell_type": "markdown",
   "metadata": {},
   "source": [
    "Import required Python packages."
   ]
  },
  {
   "cell_type": "code",
   "execution_count": 1,
   "metadata": {},
   "outputs": [
    {
     "name": "stdout",
     "output_type": "stream",
     "text": [
      "no display found. Using non-interactive Agg backend\n"
     ]
    }
   ],
   "source": [
    "from pathlib import Path\n",
    "import os\n",
    "import pandas as pd\n",
    "import numpy as np\n",
    "\n",
    "from sklearn.model_selection import train_test_split\n",
    "\n",
    "from sklearn.metrics import r2_score, mean_squared_error\n",
    "from sklearn.linear_model import LinearRegression, RidgeCV, LassoCV, ElasticNetCV\n",
    "\n",
    "import statsmodels.api as sm\n",
    "\n",
    "import seaborn as sns\n",
    "import matplotlib.pyplot as plt\n",
    "\n",
    "from dmba import stepwise_selection\n",
    "from dmba import AIC_score\n",
    "\n",
    "%matplotlib inline"
   ]
  },
  {
   "cell_type": "markdown",
   "metadata": {},
   "source": [
    "Define paths to data sets. If you don't keep your data in the same directory as the code, adapt the path names."
   ]
  },
  {
   "cell_type": "code",
   "execution_count": 2,
   "metadata": {},
   "outputs": [],
   "source": [
    "DATA = Path('.').resolve().parents[1] / 'Practice/mlr'\n",
    "\n",
    "HOUSE_CSV = DATA / 'house_sales.csv'"
   ]
  },
  {
   "cell_type": "code",
   "execution_count": 3,
   "metadata": {},
   "outputs": [
    {
     "name": "stdout",
     "output_type": "stream",
     "text": [
      "/Users/qifuyin/Documents/GitHub/DataScienceProgram/Class2/Practice/mlr\n",
      "/Users/qifuyin/Documents/GitHub/DataScienceProgram/Class2/Practice/mlr/house_sales.csv\n"
     ]
    }
   ],
   "source": [
    "print(DATA)\n",
    "print(HOUSE_CSV)"
   ]
  },
  {
   "cell_type": "markdown",
   "metadata": {},
   "source": [
    "#### Data read and train-test split"
   ]
  },
  {
   "cell_type": "code",
   "execution_count": 4,
   "metadata": {},
   "outputs": [
    {
     "name": "stdout",
     "output_type": "stream",
     "text": [
      "      DocumentDate  SalePrice  PropertyID   PropertyType          ym  zhvi_px  \\\n",
      "8610    2006-09-14     370000  2767604249      Townhouse  2006-09-01   414800   \n",
      "15736   2006-07-10     551020  5166700055  Single Family  2006-07-01   407700   \n",
      "6793    2006-04-03     307000  2215901910  Single Family  2006-04-01   396500   \n",
      "2712    2008-04-14     415000  1081800500  Single Family  2008-04-01   411700   \n",
      "15145   2007-06-20     840000  5016002495  Single Family  2007-06-01   433200   \n",
      "\n",
      "       zhvi_idx  AdjSalePrice  NbrLivingUnits  SqFtLot  ...  Bathrooms  \\\n",
      "8610   0.953125      388197.0               1     1079  ...        1.5   \n",
      "15736  0.936811      588187.0               1     6350  ...        2.5   \n",
      "6793   0.911075      336964.0               1     7519  ...        2.5   \n",
      "2712   0.946002      438688.0               1    11060  ...        2.5   \n",
      "15145  0.995404      843878.0               1     6400  ...        2.5   \n",
      "\n",
      "       Bedrooms  BldgGrade  YrBuilt  YrRenovated  TrafficNoise  LandVal  \\\n",
      "8610          2          8     2006            0             0   127000   \n",
      "15736         4          7     1974            0             0   261000   \n",
      "6793          3          7     1992            0             0   104000   \n",
      "2712          4          8     1972            0             0   143000   \n",
      "15145         4          9     1998            0             0   348000   \n",
      "\n",
      "       ImpsVal  ZipCode  NewConstruction  \n",
      "8610    275000    98107             True  \n",
      "15736   324000    98126            False  \n",
      "6793    160000    98038            False  \n",
      "2712    229000    98059            False  \n",
      "15145   507000    98112            False  \n",
      "\n",
      "[5 rows x 22 columns]\n",
      "(18149, 22)\n",
      "      DocumentDate  SalePrice  PropertyID   PropertyType          ym  zhvi_px  \\\n",
      "10513   2006-12-20     425000  3278602480      Townhouse  2006-12-01   423400   \n",
      "23137   2009-07-01     374500  8562700300  Single Family  2009-07-01   354400   \n",
      "23373   2009-10-12     378500  8608900185  Single Family  2009-10-01   351200   \n",
      "15279   2006-04-03     390000  5097900270  Single Family  2006-04-01   396500   \n",
      "22353   2006-11-08     329900  7985100150  Single Family  2006-11-01   421200   \n",
      "\n",
      "       zhvi_idx  AdjSalePrice  NbrLivingUnits  SqFtLot  ...  Bathrooms  \\\n",
      "10513  0.972886      436845.0               1     1977  ...       2.50   \n",
      "23137  0.814338      459883.0               1     8030  ...       1.75   \n",
      "23373  0.806985      469030.0               1     5850  ...       1.75   \n",
      "15279  0.911075      428066.0               1     7200  ...       2.25   \n",
      "22353  0.967831      340865.0               1     6605  ...       2.25   \n",
      "\n",
      "       Bedrooms  BldgGrade  YrBuilt  YrRenovated  TrafficNoise  LandVal  \\\n",
      "10513         3          7     2007            0             0    75000   \n",
      "23137         3          7     1966         2014             0   262000   \n",
      "23373         2          7     1944            0             0   221000   \n",
      "15279         3          7     1976            0             1   180000   \n",
      "22353         3          8     1988            0             0    91000   \n",
      "\n",
      "       ImpsVal  ZipCode  NewConstruction  \n",
      "10513   268000    98126             True  \n",
      "23137   308000    98052            False  \n",
      "23373   219000    98116            False  \n",
      "15279   164000    98034            False  \n",
      "22353   153000    98003            False  \n",
      "\n",
      "[5 rows x 22 columns]\n",
      "(4538, 22)\n"
     ]
    }
   ],
   "source": [
    "houseall = pd.read_csv(HOUSE_CSV, sep='\\t')\n",
    "\n",
    "house, house_test = train_test_split(houseall, test_size=0.2)\n",
    "\n",
    "print(house.head())\n",
    "print(house.shape)\n",
    "\n",
    "print(house_test.head())\n",
    "print(house_test.shape)"
   ]
  },
  {
   "cell_type": "markdown",
   "metadata": {},
   "source": [
    "We can use the `LinearRegression` model from _scikit-learn_."
   ]
  },
  {
   "cell_type": "markdown",
   "metadata": {},
   "source": [
    "## 1 - Multiple Linear Regression (SKlearn)"
   ]
  },
  {
   "cell_type": "code",
   "execution_count": 5,
   "metadata": {},
   "outputs": [
    {
     "name": "stdout",
     "output_type": "stream",
     "text": [
      "       AdjSalePrice  SqFtTotLiving  SqFtLot  Bathrooms  Bedrooms  BldgGrade\n",
      "8610       388197.0            920     1079        1.5         2          8\n",
      "15736      588187.0           2680     6350        2.5         4          7\n",
      "6793       336964.0           1580     7519        2.5         3          7\n",
      "2712       438688.0           2370    11060        2.5         4          8\n",
      "15145      843878.0           2540     6400        2.5         4          9\n"
     ]
    }
   ],
   "source": [
    "subset = ['AdjSalePrice', 'SqFtTotLiving', 'SqFtLot', 'Bathrooms', \n",
    "          'Bedrooms', 'BldgGrade']\n",
    "\n",
    "print(house[subset].head())"
   ]
  },
  {
   "cell_type": "code",
   "execution_count": 6,
   "metadata": {},
   "outputs": [
    {
     "name": "stdout",
     "output_type": "stream",
     "text": [
      "      DocumentDate  SalePrice  PropertyID   PropertyType          ym  zhvi_px  \\\n",
      "8610    2006-09-14     370000  2767604249      Townhouse  2006-09-01   414800   \n",
      "15736   2006-07-10     551020  5166700055  Single Family  2006-07-01   407700   \n",
      "6793    2006-04-03     307000  2215901910  Single Family  2006-04-01   396500   \n",
      "2712    2008-04-14     415000  1081800500  Single Family  2008-04-01   411700   \n",
      "15145   2007-06-20     840000  5016002495  Single Family  2007-06-01   433200   \n",
      "\n",
      "       zhvi_idx  AdjSalePrice  NbrLivingUnits  SqFtLot  ...  Bathrooms  \\\n",
      "8610   0.953125      388197.0               1     1079  ...        1.5   \n",
      "15736  0.936811      588187.0               1     6350  ...        2.5   \n",
      "6793   0.911075      336964.0               1     7519  ...        2.5   \n",
      "2712   0.946002      438688.0               1    11060  ...        2.5   \n",
      "15145  0.995404      843878.0               1     6400  ...        2.5   \n",
      "\n",
      "       Bedrooms  BldgGrade  YrBuilt  YrRenovated  TrafficNoise  LandVal  \\\n",
      "8610          2          8     2006            0             0   127000   \n",
      "15736         4          7     1974            0             0   261000   \n",
      "6793          3          7     1992            0             0   104000   \n",
      "2712          4          8     1972            0             0   143000   \n",
      "15145         4          9     1998            0             0   348000   \n",
      "\n",
      "       ImpsVal  ZipCode  NewConstruction  \n",
      "8610    275000    98107             True  \n",
      "15736   324000    98126            False  \n",
      "6793    160000    98038            False  \n",
      "2712    229000    98059            False  \n",
      "15145   507000    98112            False  \n",
      "\n",
      "[5 rows x 22 columns]\n",
      "Index(['DocumentDate', 'SalePrice', 'PropertyID', 'PropertyType', 'ym',\n",
      "       'zhvi_px', 'zhvi_idx', 'AdjSalePrice', 'NbrLivingUnits', 'SqFtLot',\n",
      "       'SqFtTotLiving', 'SqFtFinBasement', 'Bathrooms', 'Bedrooms',\n",
      "       'BldgGrade', 'YrBuilt', 'YrRenovated', 'TrafficNoise', 'LandVal',\n",
      "       'ImpsVal', 'ZipCode', 'NewConstruction'],\n",
      "      dtype='object')\n"
     ]
    }
   ],
   "source": [
    "print(house.head())\n",
    "print(house.columns)"
   ]
  },
  {
   "cell_type": "code",
   "execution_count": 7,
   "metadata": {},
   "outputs": [
    {
     "name": "stdout",
     "output_type": "stream",
     "text": [
      "Intercept: -522405.496\n",
      "Coefficients:\n",
      " SqFtTotLiving: 233.16857257860372\n",
      " SqFtLot: -0.04935289090529338\n",
      " Bathrooms: -20724.07771478515\n",
      " Bedrooms: -48918.00059804106\n",
      " BldgGrade: 106033.92080691645\n"
     ]
    }
   ],
   "source": [
    "predictors = ['SqFtTotLiving', 'SqFtLot', 'Bathrooms', \n",
    "              'Bedrooms', 'BldgGrade']\n",
    "outcome = 'AdjSalePrice'\n",
    "\n",
    "house_lm = LinearRegression()\n",
    "house_lm.fit(house[predictors], house[outcome])\n",
    "\n",
    "print(f'Intercept: {house_lm.intercept_:.3f}')\n",
    "print('Coefficients:')\n",
    "for name, coef in zip(predictors, house_lm.coef_):\n",
    "    print(f' {name}: {coef}')"
   ]
  },
  {
   "cell_type": "markdown",
   "metadata": {},
   "source": [
    "### Assessing the Model with performance KPIs\n",
    "_Scikit-learn_ provides a number of metrics to determine the quality of a model. Here we use the `r2_score` and `RMSE`."
   ]
  },
  {
   "cell_type": "code",
   "execution_count": 8,
   "metadata": {},
   "outputs": [
    {
     "name": "stdout",
     "output_type": "stream",
     "text": [
      "RMSE: 263271\n",
      "r2: 0.5424\n",
      "RMSE_test: 252952\n",
      "r2_test: 0.5320\n"
     ]
    }
   ],
   "source": [
    "fitted = house_lm.predict(house[predictors])\n",
    "RMSE = np.sqrt(mean_squared_error(house[outcome], fitted))\n",
    "r2 = r2_score(house[outcome], fitted)\n",
    "print(f'RMSE: {RMSE:.0f}')\n",
    "print(f'r2: {r2:.4f}')\n",
    "\n",
    "fitted_test = house_lm.predict(house_test[predictors])\n",
    "RMSE_test = np.sqrt(mean_squared_error(house_test[outcome], fitted_test))\n",
    "r2_test = r2_score(house_test[outcome], fitted_test)\n",
    "print(f'RMSE_test: {RMSE_test:.0f}')\n",
    "print(f'r2_test: {r2_test:.4f}')"
   ]
  },
  {
   "cell_type": "markdown",
   "metadata": {},
   "source": [
    "## 1 - Multiple Linear Regression (statsmodels)"
   ]
  },
  {
   "cell_type": "markdown",
   "metadata": {},
   "source": [
    "While _scikit-learn_ provides a variety of different metrics, _statsmodels_ provides a more in-depth analysis of the linear regression model. This package has two different ways of specifying the model, one that is similar to _scikit-learn_ and one that allows specifying _R_-style formulas. Here we use the first approach. As _statsmodels_ doesn't add an intercept automaticaly, we need to add a constant column with value 1 to the predictors. We can use the _pandas_ method assign for this."
   ]
  },
  {
   "cell_type": "code",
   "execution_count": 9,
   "metadata": {},
   "outputs": [
    {
     "name": "stdout",
     "output_type": "stream",
     "text": [
      "                            OLS Regression Results                            \n",
      "==============================================================================\n",
      "Dep. Variable:           AdjSalePrice   R-squared:                       0.542\n",
      "Model:                            OLS   Adj. R-squared:                  0.542\n",
      "Method:                 Least Squares   F-statistic:                     4302.\n",
      "Date:                Sun, 07 Jun 2020   Prob (F-statistic):               0.00\n",
      "Time:                        18:02:21   Log-Likelihood:            -2.5227e+05\n",
      "No. Observations:               18149   AIC:                         5.045e+05\n",
      "Df Residuals:                   18143   BIC:                         5.046e+05\n",
      "Df Model:                           5                                         \n",
      "Covariance Type:            nonrobust                                         \n",
      "=================================================================================\n",
      "                    coef    std err          t      P>|t|      [0.025      0.975]\n",
      "---------------------------------------------------------------------------------\n",
      "SqFtTotLiving   233.1686      4.368     53.375      0.000     224.606     241.731\n",
      "SqFtLot          -0.0494      0.066     -0.744      0.457      -0.179       0.081\n",
      "Bathrooms     -2.072e+04   4075.643     -5.085      0.000   -2.87e+04   -1.27e+04\n",
      "Bedrooms      -4.892e+04   2783.518    -17.574      0.000   -5.44e+04   -4.35e+04\n",
      "BldgGrade       1.06e+05   2696.199     39.327      0.000    1.01e+05    1.11e+05\n",
      "const         -5.224e+05   1.76e+04    -29.719      0.000   -5.57e+05   -4.88e+05\n",
      "==============================================================================\n",
      "Omnibus:                    23968.530   Durbin-Watson:                   2.006\n",
      "Prob(Omnibus):                  0.000   Jarque-Bera (JB):         17082450.400\n",
      "Skew:                           6.982   Prob(JB):                         0.00\n",
      "Kurtosis:                     152.648   Cond. No.                     2.95e+05\n",
      "==============================================================================\n",
      "\n",
      "Warnings:\n",
      "[1] Standard Errors assume that the covariance matrix of the errors is correctly specified.\n",
      "[2] The condition number is large, 2.95e+05. This might indicate that there are\n",
      "strong multicollinearity or other numerical problems.\n"
     ]
    }
   ],
   "source": [
    "mlr_sm = sm.OLS(house[outcome], house[predictors].assign(const=1))\n",
    "results = mlr_sm.fit()\n",
    "print(results.summary())"
   ]
  },
  {
   "cell_type": "markdown",
   "metadata": {},
   "source": [
    "### Correlations between predictors"
   ]
  },
  {
   "cell_type": "code",
   "execution_count": 10,
   "metadata": {},
   "outputs": [
    {
     "name": "stdout",
     "output_type": "stream",
     "text": [
      "Correlation Matrix \n",
      "                SqFtTotLiving   SqFtLot  Bathrooms  Bedrooms  BldgGrade\n",
      "SqFtTotLiving       1.000000  0.192406   0.764358  0.597344   0.770762\n",
      "SqFtLot             0.192406  1.000000   0.106614  0.068330   0.144631\n",
      "Bathrooms           0.764358  0.106614   1.000000  0.537276   0.660059\n",
      "Bedrooms            0.597344  0.068330   0.537276  1.000000   0.367051\n",
      "BldgGrade           0.770762  0.144631   0.660059  0.367051   1.000000\n"
     ]
    },
    {
     "data": {
      "image/png": "[encoded data removed]",
      "text/plain": [
       "<Figure size 432x288 with 2 Axes>"
      ]
     },
     "metadata": {
      "needs_background": "light"
     },
     "output_type": "display_data"
    }
   ],
   "source": [
    "corr = house[predictors].corr()\n",
    "print(\"Correlation Matrix \\n {}\".format(corr))\n",
    "\n",
    "ax = sns.heatmap(\n",
    "    corr, \n",
    "    vmin=-1, vmax=1, center=0,\n",
    "    cmap=sns.diverging_palette(20, 220, n=200),\n",
    "    square=True\n",
    ")\n",
    "ax.set_xticklabels(\n",
    "    ax.get_xticklabels(),\n",
    "    rotation=45,\n",
    "    horizontalalignment='right'\n",
    ");"
   ]
  },
  {
   "cell_type": "markdown",
   "metadata": {},
   "source": [
    "## 2 - Model Selection and Stepwise Regression"
   ]
  },
  {
   "cell_type": "code",
   "execution_count": 11,
   "metadata": {},
   "outputs": [
    {
     "name": "stdout",
     "output_type": "stream",
     "text": [
      "       SqFtTotLiving  SqFtLot  Bathrooms  Bedrooms  BldgGrade   PropertyType  \\\n",
      "8610             920     1079        1.5         2          8      Townhouse   \n",
      "15736           2680     6350        2.5         4          7  Single Family   \n",
      "6793            1580     7519        2.5         3          7  Single Family   \n",
      "2712            2370    11060        2.5         4          8  Single Family   \n",
      "15145           2540     6400        2.5         4          9  Single Family   \n",
      "\n",
      "       NbrLivingUnits  SqFtFinBasement  YrBuilt  YrRenovated  NewConstruction  \n",
      "8610                1                0     2006            0             True  \n",
      "15736               1             1160     1974            0            False  \n",
      "6793                1                0     1992            0            False  \n",
      "2712                1              780     1972            0            False  \n",
      "15145               1                0     1998            0            False  \n",
      "\n",
      " PropertyType List \n",
      "Single Family    16589\n",
      "Townhouse         1362\n",
      "Multiplex          198\n",
      "Name: PropertyType, dtype: int64\n",
      "\n",
      "Predictors after nominal varibale(s) treatment: (18149, 12) \n",
      "\n",
      "\n",
      "                            OLS Regression Results                            \n",
      "==============================================================================\n",
      "Dep. Variable:           AdjSalePrice   R-squared:                       0.598\n",
      "Model:                            OLS   Adj. R-squared:                  0.597\n",
      "Method:                 Least Squares   F-statistic:                     2245.\n",
      "Date:                Sun, 07 Jun 2020   Prob (F-statistic):               0.00\n",
      "Time:                        18:02:22   Log-Likelihood:            -2.5110e+05\n",
      "No. Observations:               18149   AIC:                         5.022e+05\n",
      "Df Residuals:                   18136   BIC:                         5.023e+05\n",
      "Df Model:                          12                                         \n",
      "Covariance Type:            nonrobust                                         \n",
      "==============================================================================================\n",
      "                                 coef    std err          t      P>|t|      [0.025      0.975]\n",
      "----------------------------------------------------------------------------------------------\n",
      "SqFtTotLiving                201.5099      4.725     42.647      0.000     192.248     210.771\n",
      "SqFtLot                        0.0811      0.063      1.295      0.195      -0.042       0.204\n",
      "Bathrooms                   4.016e+04   4266.140      9.413      0.000    3.18e+04    4.85e+04\n",
      "Bedrooms                    -5.35e+04   2675.034    -20.000      0.000   -5.87e+04   -4.83e+04\n",
      "BldgGrade                   1.385e+05   2742.528     50.510      0.000    1.33e+05    1.44e+05\n",
      "NbrLivingUnits              3.215e+04   1.94e+04      1.656      0.098   -5903.226    7.02e+04\n",
      "SqFtFinBasement               11.4133      5.230      2.182      0.029       1.162      21.664\n",
      "YrBuilt                    -3588.7263     86.687    -41.398      0.000   -3758.642   -3418.811\n",
      "YrRenovated                    2.0472      4.385      0.467      0.641      -6.548      10.642\n",
      "NewConstruction            -1037.1419   6705.316     -0.155      0.877   -1.42e+04    1.21e+04\n",
      "PropertyType_Single Family  5.932e+04   2.89e+04      2.054      0.040    2702.158    1.16e+05\n",
      "PropertyType_Townhouse      1.235e+05      3e+04      4.121      0.000    6.48e+04    1.82e+05\n",
      "const                       6.149e+06   1.74e+05     35.377      0.000    5.81e+06    6.49e+06\n",
      "==============================================================================\n",
      "Omnibus:                    25044.360   Durbin-Watson:                   2.004\n",
      "Prob(Omnibus):                  0.000   Jarque-Bera (JB):         23207550.398\n",
      "Skew:                           7.532   Prob(JB):                         0.00\n",
      "Kurtosis:                     177.535   Cond. No.                     3.08e+06\n",
      "==============================================================================\n",
      "\n",
      "Warnings:\n",
      "[1] Standard Errors assume that the covariance matrix of the errors is correctly specified.\n",
      "[2] The condition number is large, 3.08e+06. This might indicate that there are\n",
      "strong multicollinearity or other numerical problems.\n"
     ]
    }
   ],
   "source": [
    "predictors = ['SqFtTotLiving', 'SqFtLot', 'Bathrooms', 'Bedrooms',\n",
    "              'BldgGrade', 'PropertyType', 'NbrLivingUnits',\n",
    "              'SqFtFinBasement', 'YrBuilt', 'YrRenovated', \n",
    "              'NewConstruction']\n",
    "\n",
    "print(house[predictors].head())\n",
    "\n",
    "print(\"\\n PropertyType List \\n{}\".format(house['PropertyType'].value_counts(dropna=False)))\n",
    "\n",
    "X = pd.get_dummies(house[predictors], drop_first=True)\n",
    "X['NewConstruction'] = [1 if nc else 0 for nc in X['NewConstruction']]\n",
    "\n",
    "print(\"\\nPredictors after nominal varibale(s) treatment: {} \\n\\n\".format(X.shape))\n",
    "\n",
    "house_full = sm.OLS(house[outcome], X.assign(const=1))\n",
    "results = house_full.fit()\n",
    "print(results.summary())"
   ]
  },
  {
   "cell_type": "markdown",
   "metadata": {},
   "source": [
    "We can use the `stepwise_selection` method from the _dmba_ package."
   ]
  },
  {
   "cell_type": "code",
   "execution_count": 12,
   "metadata": {},
   "outputs": [
    {
     "name": "stdout",
     "output_type": "stream",
     "text": [
      "Variables: SqFtTotLiving, SqFtLot, Bathrooms, Bedrooms, BldgGrade, NbrLivingUnits, SqFtFinBasement, YrBuilt, YrRenovated, NewConstruction, PropertyType_Single Family, PropertyType_Townhouse\n",
      "Start: score=518731.56, constant\n",
      "Step: score=506673.85, add SqFtTotLiving\n",
      "Step: score=504925.02, add BldgGrade\n",
      "Step: score=502818.74, add YrBuilt\n",
      "Step: score=502438.92, add Bedrooms\n",
      "Step: score=502299.53, add Bathrooms\n",
      "Step: score=502232.60, add PropertyType_Townhouse\n",
      "Step: score=502229.99, add SqFtFinBasement\n",
      "Step: score=502229.99, unchanged None\n",
      "\n",
      "Intercept: 6261875.522\n",
      "Coefficients:\n",
      " SqFtTotLiving: 202.57067932269524\n",
      " BldgGrade: 138415.06808733055\n",
      " YrBuilt: -3599.271348929042\n",
      " Bedrooms: -53725.363583500635\n",
      " Bathrooms: 40334.55822526885\n",
      " PropertyType_Townhouse: 63677.22197014791\n",
      " SqFtFinBasement: 11.164426956063835\n"
     ]
    }
   ],
   "source": [
    "y = house[outcome]\n",
    "\n",
    "def train_model(variables):\n",
    "    if len(variables) == 0:\n",
    "        return None\n",
    "    model = LinearRegression()\n",
    "    model.fit(X[variables], y)\n",
    "    return model\n",
    "\n",
    "def score_model(model, variables):\n",
    "    if len(variables) == 0:\n",
    "        return AIC_score(y, [y.mean()] * len(y), model, df=1)\n",
    "    return AIC_score(y, model.predict(X[variables]), model)\n",
    "\n",
    "best_model, best_variables = stepwise_selection(X.columns, train_model, score_model, \n",
    "                                                verbose=True)\n",
    "\n",
    "print()\n",
    "print(f'Intercept: {best_model.intercept_:.3f}')\n",
    "print('Coefficients:')\n",
    "for name, coef in zip(best_variables, best_model.coef_):\n",
    "    print(f' {name}: {coef}')"
   ]
  },
  {
   "cell_type": "markdown",
   "metadata": {},
   "source": [
    "## 3 - Weighted regression\n",
    "For the house data recent sale price is more relavent for future prediction, old sale data is less reliable, therefore, we like to emphasis the recent sale data by apply more weight. We will use year the house sale to 2005 as weight.\n",
    "\n",
    "We can calculate the Year from the date column using either a list comprehension or the data frame's `apply` method."
   ]
  },
  {
   "cell_type": "code",
   "execution_count": 13,
   "metadata": {},
   "outputs": [
    {
     "name": "stdout",
     "output_type": "stream",
     "text": [
      "\n",
      "DocumentDate List \n",
      "2006-08-24    47\n",
      "2006-07-26    47\n",
      "2006-06-19    46\n",
      "2006-02-21    43\n",
      "2006-05-22    43\n",
      "2006-04-25    43\n",
      "2006-05-23    43\n",
      "2006-06-13    43\n",
      "2006-05-30    42\n",
      "2006-07-24    42\n",
      "2006-06-28    41\n",
      "2006-08-21    41\n",
      "2006-08-23    41\n",
      "2006-04-26    40\n",
      "2006-06-08    40\n",
      "2006-08-01    40\n",
      "2006-07-18    39\n",
      "2006-06-01    39\n",
      "2006-04-12    39\n",
      "2006-06-12    38\n",
      "2006-03-21    38\n",
      "2006-06-21    38\n",
      "2006-05-16    38\n",
      "2006-02-22    38\n",
      "2006-10-10    37\n",
      "2006-07-12    37\n",
      "2006-07-11    37\n",
      "2006-03-22    37\n",
      "2006-03-20    37\n",
      "2006-04-07    36\n",
      "              ..\n",
      "2008-05-10     1\n",
      "2013-08-24     1\n",
      "2014-04-11     1\n",
      "2011-09-02     1\n",
      "2009-11-13     1\n",
      "2011-04-03     1\n",
      "2008-04-26     1\n",
      "2011-07-14     1\n",
      "2014-09-16     1\n",
      "2009-07-05     1\n",
      "2013-08-12     1\n",
      "2012-02-29     1\n",
      "2014-09-25     1\n",
      "2008-09-01     1\n",
      "2013-01-08     1\n",
      "2011-11-23     1\n",
      "2007-08-18     1\n",
      "2014-04-17     1\n",
      "2014-07-16     1\n",
      "2015-05-21     1\n",
      "2008-07-26     1\n",
      "2014-05-07     1\n",
      "2015-05-12     1\n",
      "2010-06-06     1\n",
      "2014-05-20     1\n",
      "2012-03-07     1\n",
      "2010-08-21     1\n",
      "2015-03-07     1\n",
      "2008-02-23     1\n",
      "2013-11-21     1\n",
      "Name: DocumentDate, Length: 2473, dtype: int64\n"
     ]
    }
   ],
   "source": [
    "print(\"\\nDocumentDate List \\n{}\".format(house['DocumentDate'].value_counts(dropna=False)))"
   ]
  },
  {
   "cell_type": "code",
   "execution_count": 14,
   "metadata": {},
   "outputs": [
    {
     "name": "stderr",
     "output_type": "stream",
     "text": [
      "/Users/qifuyin/anaconda3/lib/python3.6/site-packages/ipykernel_launcher.py:1: SettingWithCopyWarning: \n",
      "A value is trying to be set on a copy of a slice from a DataFrame.\n",
      "Try using .loc[row_indexer,col_indexer] = value instead\n",
      "\n",
      "See the caveats in the documentation: http://pandas.pydata.org/pandas-docs/stable/indexing.html#indexing-view-versus-copy\n",
      "  \"\"\"Entry point for launching an IPython kernel.\n",
      "/Users/qifuyin/anaconda3/lib/python3.6/site-packages/ipykernel_launcher.py:2: SettingWithCopyWarning: \n",
      "A value is trying to be set on a copy of a slice from a DataFrame.\n",
      "Try using .loc[row_indexer,col_indexer] = value instead\n",
      "\n",
      "See the caveats in the documentation: http://pandas.pydata.org/pandas-docs/stable/indexing.html#indexing-view-versus-copy\n",
      "  \n",
      "/Users/qifuyin/anaconda3/lib/python3.6/site-packages/ipykernel_launcher.py:3: SettingWithCopyWarning: \n",
      "A value is trying to be set on a copy of a slice from a DataFrame.\n",
      "Try using .loc[row_indexer,col_indexer] = value instead\n",
      "\n",
      "See the caveats in the documentation: http://pandas.pydata.org/pandas-docs/stable/indexing.html#indexing-view-versus-copy\n",
      "  This is separate from the ipykernel package so we can avoid doing imports until\n"
     ]
    }
   ],
   "source": [
    "house['Year'] = [int(date.split('-')[0]) for date in house.DocumentDate]  #list comprehension\n",
    "house['Year'] = house.DocumentDate.apply(lambda d: int(d.split('-')[0]))  # apply()\n",
    "house['Weight'] = house.Year - 2005"
   ]
  },
  {
   "cell_type": "code",
   "execution_count": 15,
   "metadata": {},
   "outputs": [
    {
     "data": {
      "text/html": [
       "<div>\n",
       "<style scoped>\n",
       "    .dataframe tbody tr th:only-of-type {\n",
       "        vertical-align: middle;\n",
       "    }\n",
       "\n",
       "    .dataframe tbody tr th {\n",
       "        vertical-align: top;\n",
       "    }\n",
       "\n",
       "    .dataframe thead th {\n",
       "        text-align: right;\n",
       "    }\n",
       "</style>\n",
       "<table border=\"1\" class=\"dataframe\">\n",
       "  <thead>\n",
       "    <tr style=\"text-align: right;\">\n",
       "      <th></th>\n",
       "      <th>predictor</th>\n",
       "      <th>house_lm</th>\n",
       "      <th>house_wt</th>\n",
       "    </tr>\n",
       "  </thead>\n",
       "  <tbody>\n",
       "    <tr>\n",
       "      <th>0</th>\n",
       "      <td>SqFtTotLiving</td>\n",
       "      <td>233.168573</td>\n",
       "      <td>248.271769</td>\n",
       "    </tr>\n",
       "    <tr>\n",
       "      <th>1</th>\n",
       "      <td>SqFtLot</td>\n",
       "      <td>-0.049353</td>\n",
       "      <td>-0.239941</td>\n",
       "    </tr>\n",
       "    <tr>\n",
       "      <th>2</th>\n",
       "      <td>Bathrooms</td>\n",
       "      <td>-20724.077715</td>\n",
       "      <td>-31594.691248</td>\n",
       "    </tr>\n",
       "    <tr>\n",
       "      <th>3</th>\n",
       "      <td>Bedrooms</td>\n",
       "      <td>-48918.000598</td>\n",
       "      <td>-53310.935851</td>\n",
       "    </tr>\n",
       "    <tr>\n",
       "      <th>4</th>\n",
       "      <td>BldgGrade</td>\n",
       "      <td>106033.920807</td>\n",
       "      <td>117670.916067</td>\n",
       "    </tr>\n",
       "    <tr>\n",
       "      <th>5</th>\n",
       "      <td>intercept</td>\n",
       "      <td>-522405.496309</td>\n",
       "      <td>-597441.181149</td>\n",
       "    </tr>\n",
       "  </tbody>\n",
       "</table>\n",
       "</div>"
      ],
      "text/plain": [
       "       predictor       house_lm       house_wt\n",
       "0  SqFtTotLiving     233.168573     248.271769\n",
       "1        SqFtLot      -0.049353      -0.239941\n",
       "2      Bathrooms  -20724.077715  -31594.691248\n",
       "3       Bedrooms  -48918.000598  -53310.935851\n",
       "4      BldgGrade  106033.920807  117670.916067\n",
       "5      intercept -522405.496309 -597441.181149"
      ]
     },
     "execution_count": 15,
     "metadata": {},
     "output_type": "execute_result"
    }
   ],
   "source": [
    "predictors = ['SqFtTotLiving', 'SqFtLot', 'Bathrooms', \n",
    "              'Bedrooms', 'BldgGrade']\n",
    "outcome = 'AdjSalePrice'\n",
    "\n",
    "house_wt = LinearRegression()\n",
    "house_wt.fit(house[predictors], house[outcome], sample_weight=house.Weight)\n",
    "pd.DataFrame({\n",
    "    'predictor': predictors,\n",
    "    'house_lm': house_lm.coef_,\n",
    "    'house_wt': house_wt.coef_,\n",
    "}).append({\n",
    "    'predictor': 'intercept', \n",
    "    'house_lm': house_lm.intercept_,\n",
    "    'house_wt': house_wt.intercept_,\n",
    "}, ignore_index=True)"
   ]
  },
  {
   "cell_type": "code",
   "execution_count": 16,
   "metadata": {},
   "outputs": [
    {
     "name": "stdout",
     "output_type": "stream",
     "text": [
      "       abs_residual_lm  abs_residual_wt  Year\n",
      "8610      23208.587381     29866.370057  2006\n",
      "15736      8741.136313      9682.477203  2006\n",
      "6793      52339.013546     40836.977178  2006\n",
      "2712     191759.347505    198758.025164  2008\n",
      "15145     67528.089878     45436.735287  2007\n",
      "\n",
      "\n",
      "Year   Abs_residual_lm    Abs_residual_wt\n",
      "2006 142376.15200071657 148526.57270125457\n",
      "2007 149006.31370386216 154077.52666873543\n",
      "2008 143341.56969893927 147566.93107335205\n",
      "2009 150111.53700434192 154003.35264336664\n",
      "2010 160089.00829642423 163411.56495164783\n",
      "2011 171584.20736323152 174306.9531528853\n",
      "2012 172371.91450996217 174873.49821100818\n",
      "2013 208940.27523762797 211211.08292611755\n",
      "2014 183718.63165523225 185469.17310424492\n",
      "2015 172290.82014336478 169673.7158749722\n"
     ]
    },
    {
     "data": {
      "image/png": "[encoded data removed]",
      "text/plain": [
       "<Figure size 720x288 with 2 Axes>"
      ]
     },
     "metadata": {
      "needs_background": "light"
     },
     "output_type": "display_data"
    }
   ],
   "source": [
    "residuals = pd.DataFrame({\n",
    "    'abs_residual_lm': np.abs(house_lm.predict(house[predictors]) - house[outcome]),\n",
    "    'abs_residual_wt': np.abs(house_wt.predict(house[predictors]) - house[outcome]),\n",
    "    'Year': house['Year'],\n",
    "})\n",
    "print(residuals.head())\n",
    "axes = residuals.boxplot(['abs_residual_lm', 'abs_residual_wt'], by='Year', figsize=(10, 4))\n",
    "axes[0].set_ylim(0, 300000)\n",
    "\n",
    "print(\"\\n\\nYear   Abs_residual_lm    Abs_residual_wt\")\n",
    "for year, group in residuals.groupby('Year'):\n",
    "    print(year, np.mean(group['abs_residual_lm']), np.mean(group['abs_residual_wt']))"
   ]
  },
  {
   "cell_type": "markdown",
   "metadata": {},
   "source": [
    "Seems only help 2015 prediction reduce the residuale.If we have a recent holdout sample we can test the weight could help for furture prediction or not"
   ]
  },
  {
   "cell_type": "markdown",
   "metadata": {},
   "source": [
    "# 4 - Regularization"
   ]
  },
  {
   "cell_type": "code",
   "execution_count": 17,
   "metadata": {},
   "outputs": [
    {
     "name": "stdout",
     "output_type": "stream",
     "text": [
      "       SqFtTotLiving  SqFtLot  Bathrooms  Bedrooms  BldgGrade   PropertyType  \\\n",
      "8610             920     1079        1.5         2          8      Townhouse   \n",
      "15736           2680     6350        2.5         4          7  Single Family   \n",
      "6793            1580     7519        2.5         3          7  Single Family   \n",
      "2712            2370    11060        2.5         4          8  Single Family   \n",
      "15145           2540     6400        2.5         4          9  Single Family   \n",
      "\n",
      "       NbrLivingUnits  SqFtFinBasement  YrBuilt  YrRenovated  NewConstruction  \n",
      "8610                1                0     2006            0             True  \n",
      "15736               1             1160     1974            0            False  \n",
      "6793                1                0     1992            0            False  \n",
      "2712                1              780     1972            0            False  \n",
      "15145               1                0     1998            0            False  \n",
      "\n",
      " PropertyType List \n",
      "Single Family    16589\n",
      "Townhouse         1362\n",
      "Multiplex          198\n",
      "Name: PropertyType, dtype: int64\n"
     ]
    }
   ],
   "source": [
    "predictors = ['SqFtTotLiving', 'SqFtLot', 'Bathrooms', 'Bedrooms',\n",
    "              'BldgGrade', 'PropertyType', 'NbrLivingUnits',\n",
    "              'SqFtFinBasement', 'YrBuilt', 'YrRenovated', \n",
    "              'NewConstruction']\n",
    "\n",
    "outcome = 'AdjSalePrice'\n",
    "\n",
    "print(house[predictors].head())\n",
    "\n",
    "print(\"\\n PropertyType List \\n{}\".format(house['PropertyType'].value_counts(dropna=False)))\n",
    "\n",
    "X_train = pd.get_dummies(house[predictors], drop_first=True)\n",
    "X_train['NewConstruction'] = [1 if nc else 0 for nc in X_train['NewConstruction']]\n",
    "y_train = house[outcome]\n",
    "\n",
    "X_test = pd.get_dummies(house_test[predictors], drop_first=True)\n",
    "X_test['NewConstruction'] = [1 if nc else 0 for nc in X_test['NewConstruction']]\n",
    "y_test = house_test[outcome]"
   ]
  },
  {
   "cell_type": "markdown",
   "metadata": {},
   "source": [
    "### Regular Multiple Regression"
   ]
  },
  {
   "cell_type": "code",
   "execution_count": 18,
   "metadata": {},
   "outputs": [
    {
     "data": {
      "text/plain": [
       "{'Intercept': 6149491.002,\n",
       " 'SqFtTotLiving': 201.51,\n",
       " 'SqFtLot': 0.081,\n",
       " 'Bathrooms': 40159.305,\n",
       " 'Bedrooms': -53500.494,\n",
       " 'BldgGrade': 138524.603,\n",
       " 'NbrLivingUnits': 32149.436,\n",
       " 'SqFtFinBasement': 11.413,\n",
       " 'YrBuilt': -3588.726,\n",
       " 'YrRenovated': 2.047,\n",
       " 'NewConstruction': -1037.142,\n",
       " 'PropertyType_Single Family': 59317.609}"
      ]
     },
     "execution_count": 18,
     "metadata": {},
     "output_type": "execute_result"
    }
   ],
   "source": [
    "house_lm = LinearRegression()\n",
    "house_lm.fit(X_train, y_train)\n",
    "\n",
    "mlr_coefs = dict(\n",
    "    zip(['Intercept'] + X_train.columns.tolist()[:-1], \n",
    "        np.round(np.concatenate((house_lm.intercept_, house_lm.coef_), \n",
    "                                axis=None), 3))\n",
    ")\n",
    "\n",
    "mlr_coefs"
   ]
  },
  {
   "cell_type": "code",
   "execution_count": 19,
   "metadata": {},
   "outputs": [
    {
     "name": "stdout",
     "output_type": "stream",
     "text": [
      "regular mlr MSE: 239572\n",
      "r2_test: 0.5802\n"
     ]
    }
   ],
   "source": [
    "fitted_test = house_lm.predict(X_test)\n",
    "MSE_test = np.sqrt(mean_squared_error(y_test, fitted_test))\n",
    "r2 = r2_score(y_test, fitted_test)\n",
    "print(f'regular mlr MSE: {MSE_test:.0f}')\n",
    "print(f'r2_test: {r2:.4f}')"
   ]
  },
  {
   "cell_type": "markdown",
   "metadata": {},
   "source": [
    "### L2 - Ridge regression (Parameter shrinkage)"
   ]
  },
  {
   "cell_type": "code",
   "execution_count": 20,
   "metadata": {},
   "outputs": [
    {
     "name": "stdout",
     "output_type": "stream",
     "text": [
      "Ridge Regression MAE: 134522.452\n",
      "Ridge Regression coefficients:\n"
     ]
    },
    {
     "data": {
      "text/plain": [
       "{'Intercept': 6047216.937,\n",
       " 'SqFtTotLiving': 197.478,\n",
       " 'SqFtLot': 0.091,\n",
       " 'Bathrooms': 41412.179,\n",
       " 'Bedrooms': -52194.897,\n",
       " 'BldgGrade': 138293.462,\n",
       " 'NbrLivingUnits': 23551.119,\n",
       " 'SqFtFinBasement': 14.007,\n",
       " 'YrBuilt': -3522.959,\n",
       " 'YrRenovated': 3.044,\n",
       " 'NewConstruction': -1051.732,\n",
       " 'PropertyType_Single Family': 42886.03}"
      ]
     },
     "execution_count": 20,
     "metadata": {},
     "output_type": "execute_result"
    }
   ],
   "source": [
    "ridge_cv = RidgeCV(normalize=True, alphas=np.logspace(-10, 1, 400))\n",
    "ridge_model = ridge_cv.fit(X_train, y_train)\n",
    "ridge_prediction = ridge_model.predict(X_test)\n",
    "ridge_mae = np.mean(np.abs(y_test - ridge_prediction))\n",
    "ridge_coefs = dict(\n",
    "    zip(['Intercept'] + X_train.columns.tolist()[:-1], \n",
    "        np.round(np.concatenate((ridge_model.intercept_, ridge_model.coef_), \n",
    "                                axis=None), 3))\n",
    ")\n",
    "\n",
    "print('Ridge Regression MAE: {}'.format(np.round(ridge_mae, 3)))\n",
    "print('Ridge Regression coefficients:')\n",
    "ridge_coefs"
   ]
  },
  {
   "cell_type": "markdown",
   "metadata": {},
   "source": [
    "### L1 - Lasso regression (Parameter sparsity)"
   ]
  },
  {
   "cell_type": "code",
   "execution_count": 21,
   "metadata": {},
   "outputs": [
    {
     "name": "stderr",
     "output_type": "stream",
     "text": [
      "/Users/qifuyin/anaconda3/lib/python3.6/site-packages/sklearn/model_selection/_split.py:2053: FutureWarning: You should specify a value for 'cv' instead of relying on the default value. The default value will change from 3 to 5 in version 0.22.\n",
      "  warnings.warn(CV_WARNING, FutureWarning)\n"
     ]
    },
    {
     "name": "stdout",
     "output_type": "stream",
     "text": [
      "LASSO MAE: 134232.953\n",
      "LASSO coefficients:\n"
     ]
    },
    {
     "data": {
      "text/plain": [
       "{'Intercept': 6023324.099,\n",
       " 'SqFtTotLiving': 199.099,\n",
       " 'SqFtLot': 0.044,\n",
       " 'Bathrooms': 37215.513,\n",
       " 'Bedrooms': -49809.361,\n",
       " 'BldgGrade': 138081.864,\n",
       " 'NbrLivingUnits': 0.0,\n",
       " 'SqFtFinBasement': 11.251,\n",
       " 'YrBuilt': -3476.592,\n",
       " 'YrRenovated': 1.171,\n",
       " 'NewConstruction': -0.0,\n",
       " 'PropertyType_Single Family': -0.0}"
      ]
     },
     "execution_count": 21,
     "metadata": {},
     "output_type": "execute_result"
    }
   ],
   "source": [
    "lasso_cv = LassoCV(normalize=True, alphas=np.logspace(-10, 1, 400))\n",
    "lasso_model = lasso_cv.fit(X_train, y_train)\n",
    "lasso_prediction = lasso_model.predict(X_test)\n",
    "lasso_mae = np.mean(np.abs(y_test - lasso_prediction))\n",
    "lasso_coefs = dict(\n",
    "    zip(['Intercept'] + X_train.columns.tolist()[:-1], \n",
    "        np.round(np.concatenate((lasso_model.intercept_, lasso_model.coef_), axis=None), 3))\n",
    ")\n",
    "\n",
    "print('LASSO MAE: {}'.format(np.round(lasso_mae, 3)))\n",
    "print('LASSO coefficients:')\n",
    "lasso_coefs"
   ]
  },
  {
   "cell_type": "markdown",
   "metadata": {},
   "source": [
    "# Home Work"
   ]
  },
  {
   "cell_type": "markdown",
   "metadata": {},
   "source": [
    "1. Compare the three model fits and draw conclusion \n",
    "from the comparision of the three model firt regarding there coefficent difference"
   ]
  },
  {
   "cell_type": "markdown",
   "metadata": {},
   "source": [
    "The regular model generally has largest coefficients among the three models. The L2 and L1 models have smaller coefficients than the regular due to the regularization, but the L1 model has reduced some coefficients to 0 while L2 doesn't"
   ]
  },
  {
   "cell_type": "markdown",
   "metadata": {},
   "source": [
    "2. Show the three model performance on both tran and test"
   ]
  },
  {
   "cell_type": "code",
   "execution_count": 22,
   "metadata": {},
   "outputs": [
    {
     "name": "stdout",
     "output_type": "stream",
     "text": [
      "Regular Model Train RMSE: 246888\n",
      "Regular Model Train r2: 0.5976\n",
      "Regular Model Test RMSE: 239572\n",
      "Regular Model Test r2: 0.5802\n"
     ]
    }
   ],
   "source": [
    "fitted_lm = house_lm.predict(X_train)\n",
    "RMSE_lm = np.sqrt(mean_squared_error(y_train, fitted_lm))\n",
    "r2_lm = r2_score(y_train, fitted_lm)\n",
    "print(f'Regular Model Train RMSE: {RMSE_lm:.0f}')\n",
    "print(f'Regular Model Train r2: {r2_lm:.4f}')\n",
    "\n",
    "fitted_test_lm = house_lm.predict(X_test)\n",
    "RMSE_test_lm = np.sqrt(mean_squared_error(y_test, fitted_test_lm))\n",
    "r2_test_lm = r2_score(y_test, fitted_test_lm)\n",
    "print(f'Regular Model Test RMSE: {RMSE_test_lm:.0f}')\n",
    "print(f'Regular Model Test r2: {r2_test_lm:.4f}')"
   ]
  },
  {
   "cell_type": "code",
   "execution_count": 23,
   "metadata": {},
   "outputs": [
    {
     "name": "stdout",
     "output_type": "stream",
     "text": [
      "Ridge Model Train RMSE: 246903\n",
      "Ridge Model Train r2: 0.5976\n",
      "Ridge Model Test RMSE: 239441\n",
      "Ridge Model Test r2: 0.5806\n"
     ]
    }
   ],
   "source": [
    "fitted_ridge = ridge_model.predict(X_train)\n",
    "RMSE_ridge = np.sqrt(mean_squared_error(y_train, fitted_ridge))\n",
    "r2_ridge = r2_score(y_train, fitted_ridge)\n",
    "print(f'Ridge Model Train RMSE: {RMSE_ridge:.0f}')\n",
    "print(f'Ridge Model Train r2: {r2_ridge:.4f}')\n",
    "\n",
    "fitted_test_ridge = ridge_model.predict(X_test)\n",
    "RMSE_test_ridge = np.sqrt(mean_squared_error(y_test, fitted_test_ridge))\n",
    "r2_test_ridge = r2_score(y_test, fitted_test_ridge)\n",
    "print(f'Ridge Model Test RMSE: {RMSE_test_ridge:.0f}')\n",
    "print(f'Ridge Model Test r2: {r2_test_ridge:.4f}')"
   ]
  },
  {
   "cell_type": "code",
   "execution_count": 24,
   "metadata": {},
   "outputs": [
    {
     "name": "stdout",
     "output_type": "stream",
     "text": [
      "Lasso Model Train RMSE: 246960\n",
      "Lasso Model Train r2: 0.5974\n",
      "Lasso Model Test RMSE: 239255\n",
      "Lasso Model Test r2: 0.5813\n"
     ]
    }
   ],
   "source": [
    "fitted_lasso = lasso_model.predict(X_train)\n",
    "RMSE_lasso = np.sqrt(mean_squared_error(y_train, fitted_lasso))\n",
    "r2_lasso = r2_score(y_train, fitted_lasso)\n",
    "print(f'Lasso Model Train RMSE: {RMSE_lasso:.0f}')\n",
    "print(f'Lasso Model Train r2: {r2_lasso:.4f}')\n",
    "\n",
    "fitted_test_lasso = lasso_model.predict(X_test)\n",
    "RMSE_test_lasso = np.sqrt(mean_squared_error(y_test, fitted_test_lasso))\n",
    "r2_test_lasso = r2_score(y_test, fitted_test_lasso)\n",
    "print(f'Lasso Model Test RMSE: {RMSE_test_lasso:.0f}')\n",
    "print(f'Lasso Model Test r2: {r2_test_lasso:.4f}')"
   ]
  },
  {
   "cell_type": "code",
   "execution_count": null,
   "metadata": {},
   "outputs": [],
   "source": []
  }
 ],
 "metadata": {
  "kernelspec": {
   "display_name": "Python 3",
   "language": "python",
   "name": "python3"
  },
  "language_info": {
   "codemirror_mode": {
    "name": "ipython",
    "version": 3
   },
   "file_extension": ".py",
   "mimetype": "text/x-python",
   "name": "python",
   "nbconvert_exporter": "python",
   "pygments_lexer": "ipython3",
   "version": "3.6.8"
  }
 },
 "nbformat": 4,
 "nbformat_minor": 2
}
